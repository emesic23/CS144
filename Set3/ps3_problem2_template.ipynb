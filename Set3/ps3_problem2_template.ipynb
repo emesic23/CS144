{
  "cells": [
    {
      "cell_type": "markdown",
      "metadata": {
        "id": "Dm89_MtLfn_x"
      },
      "source": [
        "# HW 3 Problem 2: Heavy vs. Light Tails"
      ]
    },
    {
      "cell_type": "markdown",
      "metadata": {
        "id": "XEdXYnh5fn_z"
      },
      "source": [
        "### Your Name Here"
      ]
    },
    {
      "cell_type": "code",
      "execution_count": 1,
      "metadata": {
        "id": "PpfEYj9Xfn_0"
      },
      "outputs": [],
      "source": [
        "import numpy as np\n",
        "import heapq\n",
        "from sklearn import linear_model\n",
        "from scipy import stats\n",
        "from scipy.special import gamma\n",
        "import matplotlib.pyplot as plt\n",
        "\n",
        "n = 10000 # Arbitrary plotting value for large n, for part (a)\n",
        "small_n = 20 # also for part (a)"
      ]
    },
    {
      "cell_type": "markdown",
      "metadata": {
        "id": "qmpm2JfZfn_2"
      },
      "source": [
        "## Part a: Law of Large Numbers\n",
        "\n",
        "Make two plots of $S_n$ vs. $n$ for each of the distributions – the first plot over $n∈${1,2, . . . ,20} and the second one over the full range of $n$."
      ]
    },
    {
      "cell_type": "code",
      "execution_count": 2,
      "metadata": {
        "id": "OBC9ugVWfn_3"
      },
      "outputs": [],
      "source": [
        "def make_graph_a(\n",
        "    # Function to make our plots look nice\n",
        "    xs,\n",
        "    ys,\n",
        "    distribution=\"Standard Normal\",\n",
        "    xlabel=\"Number of Variable Draws (n)\",\n",
        "    ylabel=\"Cumulative Sum\"):\n",
        "    \"\"\"\n",
        "    xs: List of x values to plot\n",
        "    ys: List of y values to plot\n",
        "    distribution: The name of the distribution that you are plotting\n",
        "    \"\"\"\n",
        "    title = \"{0} of {1} Distribution\".format(ylabel, distribution)\n",
        "    \n",
        "    plt.subplots(1, 2, figsize=(15, 4))\n",
        "    plt.subplot(1, 2, 1)\n",
        "    plt.plot(xs[:20], ys[:20])\n",
        "    plt.xlabel(xlabel)\n",
        "    plt.ylabel(ylabel)\n",
        "    plt.title(title + \" (First 20 values)\")\n",
        "\n",
        "    plt.subplot(1, 2, 2)\n",
        "    plt.plot(xs, ys)\n",
        "    plt.xlabel(xlabel)\n",
        "    plt.ylabel(ylabel)\n",
        "    plt.title(title)\n",
        "    \n",
        "    plt.show()\n",
        "    "
      ]
    },
    {
      "cell_type": "code",
      "execution_count": 3,
      "metadata": {
        "id": "qjP87bICfn_4"
      },
      "outputs": [],
      "source": [
        "# TODO: Create n random draws of the desired distributions\n",
        "# The np.random module is very useful for this! \n",
        "# Documentation: https://numpy.org/doc/stable/reference/random/legacy.html#functions-in-numpy-random\n",
        "normal_draws = np.random.normal(1, 1, n)\n",
        "weibull_draws = np.random.weibull(0.3, n)\n",
        "pareto_draws = (np.random.pareto(0.5, n) + 1) * (1/3)\n",
        "\n",
        "# Once you fill in the above variables, we can make the plots\n",
        "# Instead of simulating for i=1...10^5 trials, take a partial sum\n",
        "x_range = np.linspace(1, small_n, num=small_n)\n",
        "normal_cumsum = np.cumsum(normal_draws)\n",
        "weibull_cumsum  = np.cumsum(weibull_draws)\n",
        "pareto_cumsum = np.cumsum(pareto_draws)"
      ]
    },
    {
      "cell_type": "code",
      "execution_count": 4,
      "metadata": {
        "id": "KfMetE5Sfn_5"
      },
      "outputs": [
        {
          "ename": "ValueError",
          "evalue": "x and y must have same first dimension, but have shapes (20,) and (10000,)",
          "output_type": "error",
          "traceback": [
            "\u001b[0;31m---------------------------------------------------------------------------\u001b[0m",
            "\u001b[0;31mValueError\u001b[0m                                Traceback (most recent call last)",
            "\u001b[1;32m/mnt/d/CS144/Set3/ps3_problem2_template.ipynb Cell 7\u001b[0m in \u001b[0;36m<cell line: 1>\u001b[0;34m()\u001b[0m\n\u001b[0;32m----> <a href='vscode-notebook-cell://wsl%2Bubuntu/mnt/d/CS144/Set3/ps3_problem2_template.ipynb#W6sdnNjb2RlLXJlbW90ZQ%3D%3D?line=0'>1</a>\u001b[0m make_graph_a(\n\u001b[1;32m      <a href='vscode-notebook-cell://wsl%2Bubuntu/mnt/d/CS144/Set3/ps3_problem2_template.ipynb#W6sdnNjb2RlLXJlbW90ZQ%3D%3D?line=1'>2</a>\u001b[0m     x_range,\n\u001b[1;32m      <a href='vscode-notebook-cell://wsl%2Bubuntu/mnt/d/CS144/Set3/ps3_problem2_template.ipynb#W6sdnNjb2RlLXJlbW90ZQ%3D%3D?line=2'>3</a>\u001b[0m     normal_cumsum,\n\u001b[1;32m      <a href='vscode-notebook-cell://wsl%2Bubuntu/mnt/d/CS144/Set3/ps3_problem2_template.ipynb#W6sdnNjb2RlLXJlbW90ZQ%3D%3D?line=3'>4</a>\u001b[0m     distribution\u001b[39m=\u001b[39;49m\u001b[39m\"\u001b[39;49m\u001b[39mStandard Normal\u001b[39;49m\u001b[39m\"\u001b[39;49m)\n",
            "\u001b[1;32m/mnt/d/CS144/Set3/ps3_problem2_template.ipynb Cell 7\u001b[0m in \u001b[0;36mmake_graph_a\u001b[0;34m(xs, ys, distribution, xlabel, ylabel)\u001b[0m\n\u001b[1;32m     <a href='vscode-notebook-cell://wsl%2Bubuntu/mnt/d/CS144/Set3/ps3_problem2_template.ipynb#W6sdnNjb2RlLXJlbW90ZQ%3D%3D?line=19'>20</a>\u001b[0m plt\u001b[39m.\u001b[39mtitle(title \u001b[39m+\u001b[39m \u001b[39m\"\u001b[39m\u001b[39m (First 20 values)\u001b[39m\u001b[39m\"\u001b[39m)\n\u001b[1;32m     <a href='vscode-notebook-cell://wsl%2Bubuntu/mnt/d/CS144/Set3/ps3_problem2_template.ipynb#W6sdnNjb2RlLXJlbW90ZQ%3D%3D?line=21'>22</a>\u001b[0m plt\u001b[39m.\u001b[39msubplot(\u001b[39m1\u001b[39m, \u001b[39m2\u001b[39m, \u001b[39m2\u001b[39m)\n\u001b[0;32m---> <a href='vscode-notebook-cell://wsl%2Bubuntu/mnt/d/CS144/Set3/ps3_problem2_template.ipynb#W6sdnNjb2RlLXJlbW90ZQ%3D%3D?line=22'>23</a>\u001b[0m plt\u001b[39m.\u001b[39;49mplot(xs, ys)\n\u001b[1;32m     <a href='vscode-notebook-cell://wsl%2Bubuntu/mnt/d/CS144/Set3/ps3_problem2_template.ipynb#W6sdnNjb2RlLXJlbW90ZQ%3D%3D?line=23'>24</a>\u001b[0m plt\u001b[39m.\u001b[39mxlabel(xlabel)\n\u001b[1;32m     <a href='vscode-notebook-cell://wsl%2Bubuntu/mnt/d/CS144/Set3/ps3_problem2_template.ipynb#W6sdnNjb2RlLXJlbW90ZQ%3D%3D?line=24'>25</a>\u001b[0m plt\u001b[39m.\u001b[39mylabel(ylabel)\n",
            "File \u001b[0;32m~/anaconda3/envs/cs144/lib/python3.10/site-packages/matplotlib/pyplot.py:2748\u001b[0m, in \u001b[0;36mplot\u001b[0;34m(scalex, scaley, data, *args, **kwargs)\u001b[0m\n\u001b[1;32m   2746\u001b[0m \u001b[39m@_copy_docstring_and_deprecators\u001b[39m(Axes\u001b[39m.\u001b[39mplot)\n\u001b[1;32m   2747\u001b[0m \u001b[39mdef\u001b[39;00m \u001b[39mplot\u001b[39m(\u001b[39m*\u001b[39margs, scalex\u001b[39m=\u001b[39m\u001b[39mTrue\u001b[39;00m, scaley\u001b[39m=\u001b[39m\u001b[39mTrue\u001b[39;00m, data\u001b[39m=\u001b[39m\u001b[39mNone\u001b[39;00m, \u001b[39m*\u001b[39m\u001b[39m*\u001b[39mkwargs):\n\u001b[0;32m-> 2748\u001b[0m     \u001b[39mreturn\u001b[39;00m gca()\u001b[39m.\u001b[39;49mplot(\n\u001b[1;32m   2749\u001b[0m         \u001b[39m*\u001b[39;49margs, scalex\u001b[39m=\u001b[39;49mscalex, scaley\u001b[39m=\u001b[39;49mscaley,\n\u001b[1;32m   2750\u001b[0m         \u001b[39m*\u001b[39;49m\u001b[39m*\u001b[39;49m({\u001b[39m\"\u001b[39;49m\u001b[39mdata\u001b[39;49m\u001b[39m\"\u001b[39;49m: data} \u001b[39mif\u001b[39;49;00m data \u001b[39mis\u001b[39;49;00m \u001b[39mnot\u001b[39;49;00m \u001b[39mNone\u001b[39;49;00m \u001b[39melse\u001b[39;49;00m {}), \u001b[39m*\u001b[39;49m\u001b[39m*\u001b[39;49mkwargs)\n",
            "File \u001b[0;32m~/anaconda3/envs/cs144/lib/python3.10/site-packages/matplotlib/axes/_axes.py:1668\u001b[0m, in \u001b[0;36mAxes.plot\u001b[0;34m(self, scalex, scaley, data, *args, **kwargs)\u001b[0m\n\u001b[1;32m   1425\u001b[0m \u001b[39m\"\"\"\u001b[39;00m\n\u001b[1;32m   1426\u001b[0m \u001b[39mPlot y versus x as lines and/or markers.\u001b[39;00m\n\u001b[1;32m   1427\u001b[0m \n\u001b[0;32m   (...)\u001b[0m\n\u001b[1;32m   1665\u001b[0m \u001b[39m(``'green'``) or hex strings (``'#008000'``).\u001b[39;00m\n\u001b[1;32m   1666\u001b[0m \u001b[39m\"\"\"\u001b[39;00m\n\u001b[1;32m   1667\u001b[0m kwargs \u001b[39m=\u001b[39m cbook\u001b[39m.\u001b[39mnormalize_kwargs(kwargs, mlines\u001b[39m.\u001b[39mLine2D)\n\u001b[0;32m-> 1668\u001b[0m lines \u001b[39m=\u001b[39m [\u001b[39m*\u001b[39m\u001b[39mself\u001b[39m\u001b[39m.\u001b[39m_get_lines(\u001b[39m*\u001b[39margs, data\u001b[39m=\u001b[39mdata, \u001b[39m*\u001b[39m\u001b[39m*\u001b[39mkwargs)]\n\u001b[1;32m   1669\u001b[0m \u001b[39mfor\u001b[39;00m line \u001b[39min\u001b[39;00m lines:\n\u001b[1;32m   1670\u001b[0m     \u001b[39mself\u001b[39m\u001b[39m.\u001b[39madd_line(line)\n",
            "File \u001b[0;32m~/anaconda3/envs/cs144/lib/python3.10/site-packages/matplotlib/axes/_base.py:311\u001b[0m, in \u001b[0;36m_process_plot_var_args.__call__\u001b[0;34m(self, data, *args, **kwargs)\u001b[0m\n\u001b[1;32m    309\u001b[0m     this \u001b[39m+\u001b[39m\u001b[39m=\u001b[39m args[\u001b[39m0\u001b[39m],\n\u001b[1;32m    310\u001b[0m     args \u001b[39m=\u001b[39m args[\u001b[39m1\u001b[39m:]\n\u001b[0;32m--> 311\u001b[0m \u001b[39myield from\u001b[39;00m \u001b[39mself\u001b[39;49m\u001b[39m.\u001b[39;49m_plot_args(\n\u001b[1;32m    312\u001b[0m     this, kwargs, ambiguous_fmt_datakey\u001b[39m=\u001b[39;49mambiguous_fmt_datakey)\n",
            "File \u001b[0;32m~/anaconda3/envs/cs144/lib/python3.10/site-packages/matplotlib/axes/_base.py:504\u001b[0m, in \u001b[0;36m_process_plot_var_args._plot_args\u001b[0;34m(self, tup, kwargs, return_kwargs, ambiguous_fmt_datakey)\u001b[0m\n\u001b[1;32m    501\u001b[0m     \u001b[39mself\u001b[39m\u001b[39m.\u001b[39maxes\u001b[39m.\u001b[39myaxis\u001b[39m.\u001b[39mupdate_units(y)\n\u001b[1;32m    503\u001b[0m \u001b[39mif\u001b[39;00m x\u001b[39m.\u001b[39mshape[\u001b[39m0\u001b[39m] \u001b[39m!=\u001b[39m y\u001b[39m.\u001b[39mshape[\u001b[39m0\u001b[39m]:\n\u001b[0;32m--> 504\u001b[0m     \u001b[39mraise\u001b[39;00m \u001b[39mValueError\u001b[39;00m(\u001b[39mf\u001b[39m\u001b[39m\"\u001b[39m\u001b[39mx and y must have same first dimension, but \u001b[39m\u001b[39m\"\u001b[39m\n\u001b[1;32m    505\u001b[0m                      \u001b[39mf\u001b[39m\u001b[39m\"\u001b[39m\u001b[39mhave shapes \u001b[39m\u001b[39m{\u001b[39;00mx\u001b[39m.\u001b[39mshape\u001b[39m}\u001b[39;00m\u001b[39m and \u001b[39m\u001b[39m{\u001b[39;00my\u001b[39m.\u001b[39mshape\u001b[39m}\u001b[39;00m\u001b[39m\"\u001b[39m)\n\u001b[1;32m    506\u001b[0m \u001b[39mif\u001b[39;00m x\u001b[39m.\u001b[39mndim \u001b[39m>\u001b[39m \u001b[39m2\u001b[39m \u001b[39mor\u001b[39;00m y\u001b[39m.\u001b[39mndim \u001b[39m>\u001b[39m \u001b[39m2\u001b[39m:\n\u001b[1;32m    507\u001b[0m     \u001b[39mraise\u001b[39;00m \u001b[39mValueError\u001b[39;00m(\u001b[39mf\u001b[39m\u001b[39m\"\u001b[39m\u001b[39mx and y can be no greater than 2D, but have \u001b[39m\u001b[39m\"\u001b[39m\n\u001b[1;32m    508\u001b[0m                      \u001b[39mf\u001b[39m\u001b[39m\"\u001b[39m\u001b[39mshapes \u001b[39m\u001b[39m{\u001b[39;00mx\u001b[39m.\u001b[39mshape\u001b[39m}\u001b[39;00m\u001b[39m and \u001b[39m\u001b[39m{\u001b[39;00my\u001b[39m.\u001b[39mshape\u001b[39m}\u001b[39;00m\u001b[39m\"\u001b[39m)\n",
            "\u001b[0;31mValueError\u001b[0m: x and y must have same first dimension, but have shapes (20,) and (10000,)"
          ]
        },
        {
          "data": {
            "image/png": "[encoded data removed]",
            "text/plain": [
              "<Figure size 1080x288 with 2 Axes>"
            ]
          },
          "metadata": {
            "needs_background": "light"
          },
          "output_type": "display_data"
        }
      ],
      "source": [
        "make_graph_a(\n",
        "    x_range,\n",
        "    normal_cumsum,\n",
        "    distribution=\"Standard Normal\")"
      ]
    },
    {
      "cell_type": "code",
      "execution_count": null,
      "metadata": {
        "id": "d9PxEoI-fn_6"
      },
      "outputs": [],
      "source": [
        "make_graph_a(\n",
        "    x_range,\n",
        "    weibull_cumsum,\n",
        "    distribution=\"Weibull\")"
      ]
    },
    {
      "cell_type": "code",
      "execution_count": null,
      "metadata": {
        "id": "pjJeRsO_fn_6"
      },
      "outputs": [],
      "source": [
        "make_graph_a(\n",
        "    x_range,\n",
        "    pareto_cumsum,\n",
        "    distribution=\"Pareto\")"
      ]
    },
    {
      "cell_type": "markdown",
      "metadata": {
        "id": "HuSuDaNzfn_7"
      },
      "source": [
        "**Similarly, generate plots for n=10000 below.**"
      ]
    },
    {
      "cell_type": "code",
      "execution_count": null,
      "metadata": {
        "id": "ZKTpoZiGfn_9"
      },
      "outputs": [],
      "source": [
        "# TODO plots for n=10000"
      ]
    },
    {
      "cell_type": "markdown",
      "metadata": {
        "id": "-w5-nxa1fn_-"
      },
      "source": [
        "**Interpret your plots, in light of the law of large numbers and write your analysis here.**"
      ]
    },
    {
      "cell_type": "markdown",
      "metadata": {
        "id": "M00mLdnOfn_-"
      },
      "source": [
        "Interpretation and analysis:"
      ]
    },
    {
      "cell_type": "markdown",
      "metadata": {
        "id": "sNGfwFeAfn__"
      },
      "source": [
        "## Part b: Central Limit Theorem\n",
        "\n",
        "The Central Limit Theorem tells us that deviations of $S_n$ from its mean are of size $\\sqrt{n}$. That is, $S_n ≈ nE[X] + O(\\sqrt{n})$. Plot $\\frac{S_n − nE[X]}{\\sqrt{n}}$ vs. $n$ for each of the distributions."
      ]
    },
    {
      "cell_type": "code",
      "execution_count": null,
      "metadata": {
        "id": "F2MCr83xfn__"
      },
      "outputs": [],
      "source": [
        "# TODO: Test the CLT by plotting the scaled deviation of Sn from its mean\n",
        "# Use the cumulative sums and x_range from before\n",
        "normal_clt = None\n",
        "weibull_clt = None\n",
        "\n",
        "# Once the above variables are defined, we can make our plots\n",
        "plt.subplots(1, 2, figsize=(15, 4))\n",
        "plt.subplot(1, 2, 1)\n",
        "plt.plot(x_range, normal_clt)\n",
        "plt.xlabel(\"Number of Variable Draws (n)\")\n",
        "plt.ylabel(\"Scaled Deviation of Sn from Mean\")\n",
        "plt.title(\"Central Limit Theorem (Normal)\")\n",
        "\n",
        "plt.subplot(1, 2, 2)\n",
        "plt.plot(x_range, weibull_clt)\n",
        "plt.xlabel(\"Number of Variable Draws (n)\")\n",
        "plt.ylabel(\"Scaled Deviation of Sn from Mean\")\n",
        "plt.title(\"Central Limit Theorem (Weibull)\")\n",
        "plt.show()"
      ]
    },
    {
      "cell_type": "markdown",
      "metadata": {
        "id": "UktUEO0RfoAA"
      },
      "source": [
        "**Interpret your plots, in light of the central limit theorem, and write your analysis here.**"
      ]
    },
    {
      "cell_type": "markdown",
      "metadata": {
        "id": "YCd3WTwqfoAA"
      },
      "source": [
        "Interpretation and analysis:"
      ]
    },
    {
      "cell_type": "markdown",
      "metadata": {
        "id": "j10IcTrQhJy6"
      },
      "source": [
        "**Why aren't we also testing the Pareto distribution here?**"
      ]
    },
    {
      "cell_type": "markdown",
      "metadata": {
        "id": "CZpmeooghRb2"
      },
      "source": [
        "Answer:"
      ]
    },
    {
      "cell_type": "markdown",
      "metadata": {
        "id": "KYSLO_2ufoAB"
      },
      "source": [
        "## Part c: The 80-20 rule\n",
        "\n",
        "Vilfredo Pareto was motivated to define the Pareto distribution by this observation: 80% of the wealth in society is held by 20% of the population. This is an important distinguishing feature between heavy-tailed and light-tailed distributions. To observe this, suppose that your samples represent the incomes of 10000 individuals in a city. Since some of your samples for the Normal distribution might be negative, ignore the case of the Normal distribution for this part of the problem, since a negative income doesn’t make much sense. Compute the fraction $f(r)$ of the total income of the city held by the wealthiest $r$% of the population, for $r$ = 1,2,· · ·,20. For each of the distributions, plot $f(r)$ vs. $r$. (preferably both functions on a singleplot)."
      ]
    },
    {
      "cell_type": "code",
      "execution_count": null,
      "metadata": {
        "id": "gP4-PqemfoAC"
      },
      "outputs": [],
      "source": [
        "# TODO: Get the fraction of total income held by wealthiest r% of population.\n",
        "# For both the Weibull and Pareto distributions, create an array of \n",
        "# size 20, where entry r represents the fraction of f(r) (total income) \n",
        "# from the top r% of the population.\n",
        "# HINT: heapq has a method nlargest that is very useful in this problem\n",
        "# Documentation: https://docs.python.org/3/library/heapq.html\n",
        "weibull_largest = []\n",
        "pareto_largest = []\n",
        "\n",
        "# Once the above lists are generated, we can make our plots\n",
        "rRange = np.linspace(1, 20, num=20)\n",
        "\n",
        "plt.plot(rRange, weibull_largest, 'r')\n",
        "plt.plot(rRange, pareto_largest, 'b')\n",
        "plt.xlabel(\"Wealthiest r% of population.\")\n",
        "plt.ylabel(\"Percent of total income.\")\n",
        "plt.title(\"80/20 rule for Weibull and Pareto Distributions\")\n",
        "plt.gca().legend((\"Weibull\", \"Pareto\"))\n",
        "plt.show()"
      ]
    },
    {
      "cell_type": "markdown",
      "metadata": {
        "id": "5mvGHUuTfoAC"
      },
      "source": [
        "**Interpret your plot(s) and write your analysis here.**"
      ]
    },
    {
      "cell_type": "markdown",
      "metadata": {
        "id": "dg2-9WBvfoAC"
      },
      "source": [
        "Interpretation and analysis:"
      ]
    },
    {
      "cell_type": "markdown",
      "metadata": {
        "id": "mZbDqS4HfoAC"
      },
      "source": [
        "## Part d: Identifying Heavy Tails\n",
        "\n",
        "For each of the distributions (i)–(iii), plot the frequencies and ranks of the 10000 samples on log-logscales, using separate plots for each distribution. Since we are using a log-log scale, filter out all negative and zero values before graphing. For the frequency plots, remember to experiment with various binsizes and to choose one such that the plots are useful. (Note that bins aren’t needed for the rank plot.) Then, use linear regression to fit a line through the points on each plot. Display the best-fit lines on theplots as well as the R-squared values. What do your plots tell you about identifying heavy tails basedon frequency and rank plots?"
      ]
    },
    {
      "cell_type": "code",
      "execution_count": null,
      "metadata": {
        "id": "z3VWvAzrfoAC"
      },
      "outputs": [],
      "source": [
        "# Note: Feel free to modify this template as you wish or build your own from scratch.\n",
        "# This is a tricky problem to implement so we hope we are helping by providing a template!\n",
        "\n",
        "def pdf(data, dx=1):\n",
        "    '''Takes an array with random samples from a distribution, \n",
        "    and creates an approximate PDF of points, to use when frequency\n",
        "    Returns a tuple of two vectors x, y where \n",
        "    y_i = P(x_i - dx/2 <= data < x_i + dx/2)'''\n",
        "  \n",
        "    low, high = np.min(data), np.max(data)\n",
        "    x, y = [], []\n",
        "    \n",
        "    for d in data:\n",
        "        i = int((d + dx / 2 - low) / dx)\n",
        "        xi = low + i * dx\n",
        "        if xi in x:\n",
        "            y[x.index(xi)] += 1\n",
        "        else:\n",
        "            x.append(xi)\n",
        "            y.append(1)\n",
        "    \n",
        "    return np.array(x), np.array(y)\n",
        "    \n",
        "def ccdf(data):\n",
        "    '''Takes an array with random samples from a \n",
        "    distribution, and creates an approximate CCDF \n",
        "    (complementary CDF) of points. Returns a tuple of \n",
        "    two vectors x, y where y_i = P(data > x_i)'''\n",
        "    # TODO: Complete this function\n",
        "    \n",
        "    # Use this when creating the rank plot\n",
        "    # HINT: To generate an approximate CDF (not CCDF), one would sort the random samples and \n",
        "    # return those as the x values, and then create a range from 1 to n\n",
        "    # (scaled by 1/n) for the y values. How does this change when creating a CCDF?\n",
        "    \n",
        "    pass\n",
        "\n",
        "def keep_positive(data):\n",
        "    '''Takes an array with random samples from\n",
        "    a distribution, and filters our negative and \n",
        "    zero entries (in both x and y) in data'''\n",
        "    # TODO: Complete this function\n",
        "    \n",
        "    pass\n",
        " \n",
        "def non_outliers(x, m):\n",
        "    '''Takes an array x of data and an integer m,\n",
        "    and returns a list z of boolean values such \n",
        "    that z_i indicates whether the mean-centered \n",
        "    value x_i is within m std devs of the values in x'''\n",
        "    # TODO: Complete this function\n",
        "    \n",
        "    pass\n",
        "    \n",
        "def reject_outliers(data, m):\n",
        "    '''Takes an array of data (data here is a \n",
        "    tuple (x,y), where x and y are arrays: \n",
        "    in the form resulting from pdf() or ccdf(), for example)\n",
        "    and an integer m, and removes outliers from the data'''\n",
        "    # TODO: Complete this function \n",
        "    \n",
        "    # Note that since we are plotting on log-log scale\n",
        "    # Removing outliers should happen AFTER we move to log-log scale\n",
        "    \n",
        "    # HINT: This function returns the (x, y) tuples in data that \n",
        "    # are not outliers (non_outliers() is helpful here)\n",
        "    \n",
        "    # HINT: You must set m to a default value that defines how many \n",
        "    # standard deviations away an outlier is. We are testing that \n",
        "    # these distributions are heavy-tailed, so too tight of a range \n",
        "    # won't be helpful.\n",
        "    \n",
        "    pass\n",
        "    \n",
        "def linear_regression(X, y):\n",
        "    '''Takes (one-dimensional) training data X \n",
        "    and labels y and fits the simple linear regression \n",
        "    model y = mX + b, and computes the coefficient \n",
        "    of determination (r^2). Returns a tuple (m, b, r^2)'''\n",
        "    # TODO: Complete this function \n",
        "    \n",
        "    pass\n",
        "\n",
        "def make_graphs_d(data, title, labels, ylabel='', xlabel=''):\n",
        "    \"\"\"\n",
        "    Build respective PDF/CCDF for all three distributions\n",
        "    Attempts to create a best-fit line\n",
        "    And plots this line alongside the points\n",
        "    data: List of pdf() outputs from all 3 distributions\n",
        "    title: Either \n",
        "        Frequency plot (PDF)\n",
        "        Rank plot (CCDF)\n",
        "    labels: List of distribution names\n",
        "        i.e. [\"Normal, Weibull, Pareto\"]\n",
        "    \"\"\"\n",
        "    # General plotting function for points, as well as best-fit line\n",
        "    \n",
        "    for (X, y), label in zip(data, labels):\n",
        "        m, b, r2 = linear_regression(X, y)\n",
        "        plt.scatter(X, y, label=label, s=1)\n",
        "        plt.plot(X, b + m * X, label='y = %.2f * x + %.2f, r2 = %.3f' % (m, b, r2))\n",
        "        plt.title(title)\n",
        "        plt.xlabel(xlabel)\n",
        "        plt.ylabel(ylabel)\n",
        "        plt.legend()\n",
        "        plt.show()"
      ]
    },
    {
      "cell_type": "code",
      "execution_count": null,
      "metadata": {
        "id": "8wc8w6zLfoAD"
      },
      "outputs": [],
      "source": [
        "# Concatenate data into one list to reduce code repetition\n",
        "Xi = [normal_draws, weibull_draws, pareto_draws]\n",
        "names = [\"Normal\", \"Weibull\", \"Pareto\"]\n",
        "\n",
        "# Build the PDF and turn it into a log-log scale,\n",
        "# first removing all negative values and corresponding indices\n",
        "# TODO: When (if at all) do we remove outliers here? \n",
        "# Before or after we convert to log-scale?\n",
        "data = [pdf(Xi[i], dx=0.1) for i in range(3)]\n",
        "data = keep_positive(data)\n",
        "data = [(np.log(X), np.log(y)) for (X, y) in data]\n",
        "\n",
        "# Plot the frequencies\n",
        "make_graphs_d(data, 'Frequency plot (PDF)', names)"
      ]
    },
    {
      "cell_type": "code",
      "execution_count": null,
      "metadata": {
        "id": "dLH7ppHsfoAI"
      },
      "outputs": [],
      "source": [
        "data = [ccdf(Xi[i]) for i in range(3)]\n",
        "\n",
        "# Build the CCDF and turn it into a log-log scale,\n",
        "# first removing all negative values and corresponding indices\n",
        "# TODO: Do we remove outliers here?\n",
        "data = keep_positive(data)\n",
        "data = [(np.log(X), np.log(y)) for (X, y) in data]\n",
        "\n",
        "# Plot the ranks\n",
        "make_graphs_d(data, 'Rank plot (CCDF)', names)"
      ]
    },
    {
      "cell_type": "markdown",
      "metadata": {
        "id": "fLmyulMKfoAI"
      },
      "source": [
        "**Interpret your plot(s) and write your analysis here**."
      ]
    },
    {
      "cell_type": "markdown",
      "metadata": {
        "id": "8_tVrruQfoAJ"
      },
      "source": [
        "Interpretation and analysis:"
      ]
    },
    {
      "cell_type": "markdown",
      "metadata": {
        "id": "mB9m2mrTfoAJ"
      },
      "source": [
        "**Why do we want to remove outliers?**"
      ]
    },
    {
      "cell_type": "markdown",
      "metadata": {
        "id": "5NymPfv4hinp"
      },
      "source": [
        "Answer:"
      ]
    }
  ],
  "metadata": {
    "colab": {
      "provenance": []
    },
    "kernelspec": {
      "display_name": "cs144",
      "language": "python",
      "name": "cs144"
    },
    "language_info": {
      "codemirror_mode": {
        "name": "ipython",
        "version": 3
      },
      "file_extension": ".py",
      "mimetype": "text/x-python",
      "name": "python",
      "nbconvert_exporter": "python",
      "pygments_lexer": "ipython3",
      "version": "3.10.4"
    },
    "vscode": {
      "interpreter": {
        "hash": "916dbcbb3f70747c44a77c7bcd40155683ae19c65e1c03b4aa3499c5328201f1"
      }
    }
  },
  "nbformat": 4,
  "nbformat_minor": 0
}
