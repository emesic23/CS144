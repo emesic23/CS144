{
 "cells": [
  {
   "cell_type": "code",
   "execution_count": 40,
   "metadata": {},
   "outputs": [],
   "source": [
    "import networkx as nx\n",
    "import matplotlib.pyplot as plt\n",
    "import numpy as np\n",
    "import collections"
   ]
  },
  {
   "cell_type": "code",
   "execution_count": 41,
   "metadata": {},
   "outputs": [],
   "source": [
    "G = nx.DiGraph()\n",
    "with open(\"gr_qc_coauthorships.txt\", \"r\") as file:\n",
    "    lines = file.read().splitlines()\n",
    "    for line in lines:\n",
    "        v1, v2 = line.split(' ')\n",
    "        G.add_nodes_from([v1, v2])\n",
    "        G.add_edge(v1, v2)\n",
    "    \n"
   ]
  },
  {
   "attachments": {},
   "cell_type": "markdown",
   "metadata": {},
   "source": [
    "# A."
   ]
  },
  {
   "cell_type": "code",
   "execution_count": 45,
   "metadata": {},
   "outputs": [
    {
     "data": {
      "image/png": "[encoded data removed]",
      "text/plain": [
       "<Figure size 432x288 with 1 Axes>"
      ]
     },
     "metadata": {
      "needs_background": "light"
     },
     "output_type": "display_data"
    },
    {
     "data": {
      "image/png": "[encoded data removed]",
      "text/plain": [
       "<Figure size 432x288 with 1 Axes>"
      ]
     },
     "metadata": {
      "needs_background": "light"
     },
     "output_type": "display_data"
    },
    {
     "data": {
      "image/png": "[encoded data removed]",
      "text/plain": [
       "<Figure size 432x288 with 1 Axes>"
      ]
     },
     "metadata": {
      "needs_background": "light"
     },
     "output_type": "display_data"
    },
    {
     "data": {
      "image/png": "[encoded data removed]",
      "text/plain": [
       "<Figure size 432x288 with 1 Axes>"
      ]
     },
     "metadata": {
      "needs_background": "light"
     },
     "output_type": "display_data"
    }
   ],
   "source": [
    "def plot_in_degree_dist(G):\n",
    "    in_degrees = np.array([G.in_degree(n) for n in G.nodes()])\n",
    "    plt.hist(in_degrees)\n",
    "    plt.show()\n",
    "\n",
    "    x = np.concatenate([np.sort(list(in_degrees))])\n",
    "    plt.plot(x, np.linspace(1, 0, len(x)))\n",
    "    plt.show()\n",
    "\n",
    "def plot_out_degree_dist(G):\n",
    "    out_degrees = np.array([G.out_degree(n) for n in G.nodes()])\n",
    "    plt.hist(out_degrees)\n",
    "    plt.show()\n",
    "\n",
    "    # cdf = out_degrees.cumsum() / out_degrees.sum()\n",
    "    # ccdf = 1 - cdf\n",
    "    # plt.plot(range(len(out_degrees)), ccdf)\n",
    "    # plt.show()\n",
    "    x = np.concatenate([np.sort(list(out_degrees))])\n",
    "    plt.plot(x, np.linspace(1, 0, len(x)))\n",
    "    plt.show()\n",
    "\n",
    "plot_in_degree_dist(G)\n",
    "plot_out_degree_dist(G)"
   ]
  },
  {
   "cell_type": "code",
   "execution_count": 43,
   "metadata": {},
   "outputs": [
    {
     "name": "stdout",
     "output_type": "stream",
     "text": [
      "avg clustering coeff: 0.5568782161697919\n",
      " overall clustering coeff: 0.6288944756689877\n",
      "avg diameter: 6.049380016182999\n",
      " max diameter: 17\n"
     ]
    }
   ],
   "source": [
    "undirected_G = G.to_undirected()\n",
    "avg_cluster = nx.average_clustering(undirected_G)\n",
    "overall_cluster = nx.transitivity(undirected_G)\n",
    "\n",
    "max_diameter = nx.diameter(undirected_G)\n",
    "avg_diameter = nx.average_shortest_path_length(undirected_G)\n",
    "\n",
    "print(\"avg clustering coeff: {}\\n overall clustering coeff: {}\".format(avg_cluster, overall_cluster))\n",
    "print(\"avg diameter: {}\\n max diameter: {}\".format(avg_diameter, max_diameter))"
   ]
  },
  {
   "attachments": {},
   "cell_type": "markdown",
   "metadata": {},
   "source": [
    "# B"
   ]
  },
  {
   "cell_type": "code",
   "execution_count": 44,
   "metadata": {},
   "outputs": [
    {
     "name": "stdout",
     "output_type": "stream",
     "text": [
      "Num triangles: 47779.0\n",
      "p = 0.015861688593415416\n"
     ]
    }
   ],
   "source": [
    "num_triangles = np.sum(list(nx.triangles(undirected_G).values()))/3\n",
    "print(\"Num triangles: {}\".format(num_triangles))\n",
    "n = G.number_of_nodes()\n",
    "p = (6 * num_triangles / (n * (n-1) * (n-2))) ** (1/3)\n",
    "print(\"p = {}\".format(p))\n"
   ]
  },
  {
   "attachments": {},
   "cell_type": "markdown",
   "metadata": {},
   "source": [
    "# C"
   ]
  },
  {
   "attachments": {},
   "cell_type": "markdown",
   "metadata": {},
   "source": [
    "We expect the erdos graph to take on a binomial distribution, but this graph takes on a heavy-tailed distribution more, so it is not a great model. We do not need the histogram to conclude this, as the random graph is an evenly distributed sample of edges between nodes, whereas in the real world they are note quite random and some nodes have many more connections than others based on other properties."
   ]
  }
 ],
 "metadata": {
  "kernelspec": {
   "display_name": "cs144",
   "language": "python",
   "name": "cs144"
  },
  "language_info": {
   "codemirror_mode": {
    "name": "ipython",
    "version": 3
   },
   "file_extension": ".py",
   "mimetype": "text/x-python",
   "name": "python",
   "nbconvert_exporter": "python",
   "pygments_lexer": "ipython3",
   "version": "3.10.4"
  },
  "orig_nbformat": 4
 },
 "nbformat": 4,
 "nbformat_minor": 2
}
